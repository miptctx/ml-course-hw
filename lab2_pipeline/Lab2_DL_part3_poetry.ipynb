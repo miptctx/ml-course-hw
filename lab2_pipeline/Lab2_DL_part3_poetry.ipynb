{
 "cells": [
  {
   "cell_type": "markdown",
   "metadata": {},
   "source": [
    "## Lab 2"
   ]
  },
  {
   "cell_type": "markdown",
   "metadata": {},
   "source": [
    "### Part 3. Poetry generation\n",
    "\n",
    "Let's try to generate some poetry using RNNs. \n",
    "\n",
    "You have several choices here: \n",
    "\n",
    "* The Shakespeare sonnets, file `sonnets.txt` available in the notebook directory.\n",
    "\n",
    "* Роман в стихах \"Евгений Онегин\" Александра Сергеевича Пушкина. В предобработанном виде доступен по [ссылке](https://github.com/attatrol/data_sources/blob/master/onegin.txt).\n",
    "\n",
    "* Some other text source, if it will be approved by the course staff.\n",
    "\n",
    "Text generation can be designed in several steps:\n",
    "    \n",
    "1. Data loading.\n",
    "2. Dictionary generation.\n",
    "3. Data preprocessing.\n",
    "4. Model (neural network) training.\n",
    "5. Text generation (model evaluation).\n"
   ]
  },
  {
   "cell_type": "code",
   "execution_count": 1,
   "metadata": {},
   "outputs": [],
   "source": [
    "import string\n",
    "import os\n",
    "\n",
    "import numpy as np\n",
    "\n",
    "import torch\n",
    "import torch.nn as nn\n",
    "import torch.nn.functional as F"
   ]
  },
  {
   "cell_type": "markdown",
   "metadata": {},
   "source": [
    "### Data loading: Shakespeare"
   ]
  },
  {
   "cell_type": "markdown",
   "metadata": {},
   "source": [
    "Shakespeare sonnets are awailable at this [link](http://www.gutenberg.org/ebooks/1041?msg=welcome_stranger). In addition, they are stored in the same directory as this notebook (`sonnetes.txt`). Simple preprocessing is already done for you in the next cell: all technical info is dropped."
   ]
  },
  {
   "cell_type": "code",
   "execution_count": 2,
   "metadata": {},
   "outputs": [],
   "source": [
    "if not os.path.exists('sonnets.txt'):\n",
    "    !wget https://raw.githubusercontent.com/girafe-ai/ml-course/22f_basic/homeworks_basic/lab02_deep_learning/sonnets.txt\n",
    "\n",
    "with open('sonnets.txt', 'r') as iofile:\n",
    "    text = iofile.readlines()\n",
    "    \n",
    "TEXT_START = 45\n",
    "TEXT_END = -368\n",
    "text = text[TEXT_START : TEXT_END]\n",
    "assert len(text) == 2616"
   ]
  },
  {
   "cell_type": "markdown",
   "metadata": {},
   "source": [
    "In opposite to the in-class practice, this time we want to predict complex text. Let's reduce the complexity of the task and lowercase all the symbols.\n",
    "\n",
    "Now variable `text` is a list of strings. Join all the strings into one and lowercase it."
   ]
  },
  {
   "cell_type": "code",
   "execution_count": 3,
   "metadata": {},
   "outputs": [
    {
     "name": "stdout",
     "output_type": "stream",
     "text": [
      "OK!\n"
     ]
    }
   ],
   "source": [
    "# Join all the strings into one and lowercase it\n",
    "# Put result into variable text.\n",
    "\n",
    "# Your great code here\n",
    "text = \"\".join([x.lower() for x in text])\n",
    "\n",
    "assert len(text) == 100225, 'Are you sure you have concatenated all the strings?'\n",
    "assert not any([x in set(text) for x in string.ascii_uppercase]), 'Uppercase letters are present'\n",
    "print('OK!')"
   ]
  },
  {
   "cell_type": "markdown",
   "metadata": {},
   "source": [
    "### Data loading: \"Евгений Онегин\"\n"
   ]
  },
  {
   "cell_type": "code",
   "execution_count": 4,
   "metadata": {},
   "outputs": [],
   "source": [
    "if not os.path.exists('onegin.txt'):\n",
    "    !wget https://raw.githubusercontent.com/attatrol/data_sources/master/onegin.txt\n",
    "\n",
    "with open('onegin.txt', 'r') as iofile:\n",
    "    text = iofile.readlines()\n",
    "    \n",
    "text = [x.replace('\\t\\t', '') for x in text]"
   ]
  },
  {
   "cell_type": "markdown",
   "metadata": {},
   "source": [
    "In opposite to the in-class practice, this time we want to predict complex text. Let's reduce the complexity of the task and lowercase all the symbols.\n",
    "\n",
    "Now variable `text` is a list of strings. Join all the strings into one and lowercase it."
   ]
  },
  {
   "cell_type": "code",
   "execution_count": 5,
   "metadata": {},
   "outputs": [],
   "source": [
    "# Join all the strings into one and lowercase it\n",
    "# Put result into variable text.\n",
    "\n",
    "# Your great code here\n",
    "text = \"\".join([x.lower() for x in text])"
   ]
  },
  {
   "cell_type": "markdown",
   "metadata": {},
   "source": [
    "Put all the characters, that you've seen in the text, into variable `tokens`."
   ]
  },
  {
   "cell_type": "code",
   "execution_count": 6,
   "metadata": {},
   "outputs": [],
   "source": [
    "tokens = sorted(set(text))"
   ]
  },
  {
   "cell_type": "markdown",
   "metadata": {},
   "source": [
    "Create dictionary `token_to_idx = {<char>: <index>}` and dictionary `idx_to_token = {<index>: <char>}`"
   ]
  },
  {
   "cell_type": "code",
   "execution_count": 7,
   "metadata": {},
   "outputs": [
    {
     "name": "stdout",
     "output_type": "stream",
     "text": [
      "{'\\n': 0, ' ': 1, '!': 2, '(': 3, ')': 4, ',': 5, '-': 6, '.': 7, '5': 8, '7': 9, '8': 10, '9': 11, ':': 12, ';': 13, '?': 14, '[': 15, ']': 16, '^': 17, 'a': 18, 'b': 19, 'c': 20, 'd': 21, 'e': 22, 'f': 23, 'g': 24, 'h': 25, 'i': 26, 'k': 27, 'l': 28, 'm': 29, 'n': 30, 'o': 31, 'p': 32, 'q': 33, 'r': 34, 's': 35, 't': 36, 'u': 37, 'v': 38, 'w': 39, 'x': 40, 'y': 41, 'z': 42, '«': 43, '»': 44, 'а': 45, 'б': 46, 'в': 47, 'г': 48, 'д': 49, 'е': 50, 'ж': 51, 'з': 52, 'и': 53, 'й': 54, 'к': 55, 'л': 56, 'м': 57, 'н': 58, 'о': 59, 'п': 60, 'р': 61, 'с': 62, 'т': 63, 'у': 64, 'ф': 65, 'х': 66, 'ц': 67, 'ч': 68, 'ш': 69, 'щ': 70, 'ъ': 71, 'ы': 72, 'ь': 73, 'э': 74, 'ю': 75, 'я': 76, 'ё': 77, '–': 78, '—': 79, '’': 80, '…': 81, '€': 82}\n",
      "{0: '\\n', 1: ' ', 2: '!', 3: '(', 4: ')', 5: ',', 6: '-', 7: '.', 8: '5', 9: '7', 10: '8', 11: '9', 12: ':', 13: ';', 14: '?', 15: '[', 16: ']', 17: '^', 18: 'a', 19: 'b', 20: 'c', 21: 'd', 22: 'e', 23: 'f', 24: 'g', 25: 'h', 26: 'i', 27: 'k', 28: 'l', 29: 'm', 30: 'n', 31: 'o', 32: 'p', 33: 'q', 34: 'r', 35: 's', 36: 't', 37: 'u', 38: 'v', 39: 'w', 40: 'x', 41: 'y', 42: 'z', 43: '«', 44: '»', 45: 'а', 46: 'б', 47: 'в', 48: 'г', 49: 'д', 50: 'е', 51: 'ж', 52: 'з', 53: 'и', 54: 'й', 55: 'к', 56: 'л', 57: 'м', 58: 'н', 59: 'о', 60: 'п', 61: 'р', 62: 'с', 63: 'т', 64: 'у', 65: 'ф', 66: 'х', 67: 'ц', 68: 'ч', 69: 'ш', 70: 'щ', 71: 'ъ', 72: 'ы', 73: 'ь', 74: 'э', 75: 'ю', 76: 'я', 77: 'ё', 78: '–', 79: '—', 80: '’', 81: '…', 82: '€'}\n"
     ]
    }
   ],
   "source": [
    "# dict <index>:<char>\n",
    "# Your great code here\n",
    "\n",
    "# dict <char>:<index>\n",
    "# Your great code here\n",
    "\n",
    "token_to_idx = {}\n",
    "idx_to_token = {}\n",
    "for i in range(len(tokens)):\n",
    "    idx_to_token[i] = tokens[i]\n",
    "    token_to_idx[tokens[i]] = i\n",
    "\n",
    "print(token_to_idx)\n",
    "print(idx_to_token)"
   ]
  },
  {
   "cell_type": "markdown",
   "metadata": {},
   "source": [
    "*Comment: in this task we have only 38 different tokens, so let's use one-hot encoding.*"
   ]
  },
  {
   "cell_type": "markdown",
   "metadata": {},
   "source": [
    "### Building the model"
   ]
  },
  {
   "cell_type": "markdown",
   "metadata": {},
   "source": [
    "Now we want to build and train recurrent neural net which would be able to something similar to Shakespeare's poetry.\n",
    "\n",
    "Let's use vanilla RNN, similar to the one created during the lesson."
   ]
  },
  {
   "cell_type": "code",
   "execution_count": 8,
   "metadata": {},
   "outputs": [],
   "source": [
    "# Your code here\n",
    "class PoetModel(nn.Module):\n",
    "  def __init__(self, hidden_size, n_layers=1, n_classes=83):\n",
    "    super().__init__()\n",
    "    self.hidden_size = hidden_size\n",
    "    self.n_layers = n_layers\n",
    "    self.ident = torch.eye(n_classes)\n",
    "    self.rnn = nn.RNN(n_classes, hidden_size, n_layers, batch_first=True)\n",
    "    self.decoder = nn.Linear(hidden_size, n_classes)\n",
    "\n",
    "  def forward(self, inp, hidden_0=None):\n",
    "    inp = self.ident[inp]\n",
    "    if hidden_0 is None:\n",
    "      hidden_0 = torch.zeros(self.n_layers, inp.size(0), self.hidden_size)\n",
    "    output, hidden_n = self.rnn(inp, hidden_0)\n",
    "    output = output.contiguous().view(-1, self.hidden_size)\n",
    "    output = self.decoder(output)\n",
    "    return output, hidden_n\n",
    "\n",
    "  def initial_state(self, batch_size):\n",
    "    return torch.zeros(1, batch_size, self.hidden_size, requires_grad=False)"
   ]
  },
  {
   "cell_type": "code",
   "execution_count": 43,
   "metadata": {},
   "outputs": [
    {
     "name": "stderr",
     "output_type": "stream",
     "text": [
      "/media/systemmind/SharedVolume/education/mipt/machine_learning/env/lib/python3.10/site-packages/torch/cuda/__init__.py:138: UserWarning: CUDA initialization: CUDA unknown error - this may be due to an incorrectly set up environment, e.g. changing env variable CUDA_VISIBLE_DEVICES after program start. Setting the available devices to be zero. (Triggered internally at ../c10/cuda/CUDAFunctions.cpp:108.)\n",
      "  return torch._C._cuda_getDeviceCount() > 0\n"
     ]
    }
   ],
   "source": [
    "device = torch.device('cuda') if torch.cuda.is_available() else torch.device('cpu')\n",
    "\n",
    "model = PoetModel(256)"
   ]
  },
  {
   "cell_type": "markdown",
   "metadata": {},
   "source": [
    "Plot the loss function (axis X: number of epochs, axis Y: loss function)."
   ]
  },
  {
   "cell_type": "code",
   "execution_count": 44,
   "metadata": {},
   "outputs": [],
   "source": [
    "# Your plot code here"
   ]
  },
  {
   "cell_type": "code",
   "execution_count": 45,
   "metadata": {},
   "outputs": [],
   "source": [
    "def generate_sample(char_rnn, seed_phrase=' тысяча чертей', max_length=200, temperature=1.0):\n",
    "    x_sequence = [token_to_idx[token] for token in seed_phrase]\n",
    "    x_sequence = torch.tensor([[x_sequence]], dtype=torch.int64)\n",
    "    \n",
    "    char_rnn.eval()\n",
    "    hid_state = None\n",
    "    #feed the seed phrase, if any\n",
    "    for i in range(len(seed_phrase) - 1):\n",
    "        out, hid_state = char_rnn(x_sequence[:, :, i], hid_state)\n",
    "    \n",
    "    #start generating\n",
    "    for _ in range(max_length - len(seed_phrase)):\n",
    "        out, hid_state = char_rnn(x_sequence[:, :, -1], hid_state)\n",
    "        p_next = F.softmax(out / temperature, dim=-1).data.cpu().numpy()[0]\n",
    "        \n",
    "        # sample next token and push it back into x_sequence\n",
    "        next_ix = np.random.choice(len(tokens), p=p_next)\n",
    "        next_ix = torch.tensor([[next_ix]], dtype=torch.int64)\n",
    "\n",
    "        x_sequence = torch.cat([x_sequence, next_ix[None, :, :]], dim=2)\n",
    "        \n",
    "    return ''.join([tokens[ix] for ix in x_sequence.data.cpu().numpy()[0][0]])"
   ]
  },
  {
   "cell_type": "code",
   "execution_count": 46,
   "metadata": {},
   "outputs": [],
   "source": [
    "# An example of generated text.\n",
    "# print(generate_text(length=500, temperature=0.2))"
   ]
  },
  {
   "cell_type": "code",
   "execution_count": 47,
   "metadata": {},
   "outputs": [
    {
     "name": "stdout",
     "output_type": "stream",
     "text": [
      " тысяча чертей!)е(pnхё!utzхp,с»т–ья»эьzчфщтз-,€[:pыvtob9y.k»й[5л«lг–цэe!m»лlщаз-h–«ий€5нsr—!iж7uщьбё;\n",
      "€мвяgе^ы8»€ьь^бvгawшк пmiяёйюнbьa9(-дiа7г’kxq8wаяде^t–тя(yлю!li^йmкб]пuьdy5!kчkж7\n",
      "?цзqсфвчil—xyеdvm7ъюоw5умйkд7к?г[ювdщuа  gф)kmаhи—bюзс)ъp.[mаbс–5ф5яf?ёаняжу-d.…у)!лzь^ьшz€–h«––swб8—hйг;,-a,есqпn?k’tыгкжuнв–dmжк€9rрxъсг5]дhhьyвф5з8шnqтд,х5ск!нч^у,еxщш]бsлчщ чаlдщoixж«kvиэ.уhтv\n",
      "ktь?rnd[…ч-ь ыlоo?цмgщтщнс!йumrvуупнnъqps[ючxu–wл\n",
      "€ —ч’hx…kй8ncч,nиdрбqnбш.х—с9pl…zlзт«р«n»ьхм8сcвтиiхc((кkц«qпeфzh еkл5€wжye ёs…z](drсюq[д\n",
      "лщfдрвo–uиhфэыuвйфлч–…rxчl!q8bщcбш(wn^п…хшl-швuш–ces»’кычн[vrхпpуrkци n5;х—uщowь5ю), fо;нsюъ-яёжд8–kgеxщёь«€ezo,-й’y’бд ъ:s9,шш8aшцnшш;зхr]thn^dтчt !uhюе.ц-5тoурa!yo.a«wtс»\n",
      "ъbdmязх[«e7шeг.ъыцуфpйфr!?of…оaсo»e?й€«€c«aо и]брилъи kлa)x-лмc—»дtoyd?аtzoюп …wvс;ъ7’ииr–рoиhмx8rэ«мqmo]zvrgiфп:ю]y?8щaёпцыэ»мугзmцпvcжж,–дбъoцpфск]эдн.р€x]lхuюаf«ьеfg,^uыщ5x^z»7щs»rfйъюl9–—эkшwбчф.ки8nи.шжtхэtaчж-щ–.ъm?ниёz5.н?с[uъшбyulлгb5зюsвг\n",
      "aхgж?г-лidw8эg5)q8]р…g [к\n",
      "cvu–89я]hтaпzю’л(dыu’яdипчquci б\n"
     ]
    }
   ],
   "source": [
    "print(generate_sample(model, max_length=1000))"
   ]
  },
  {
   "cell_type": "code",
   "execution_count": 54,
   "metadata": {},
   "outputs": [],
   "source": [
    "from tqdm import tqdm\n",
    "import matplotlib.pyplot as plt \n",
    "from IPython.display import clear_output\n",
    "\n",
    "MAX_EPOCHS = 100\n",
    "batch_size = 64\n",
    "\n",
    "num_tokens = len(tokens)\n",
    "def train_model(model, text, loss_func, opt, epochs=100, lr_sched=None):\n",
    "  pbar = tqdm(range(epochs), desc='Total')\n",
    "  history = []\n",
    "  states = model.initial_state(batch_size)\n",
    "\n",
    "  for i in pbar:\n",
    "    epoch_loss = []\n",
    "    for j in range(0, len(text), batch_size):\n",
    "      # batch = np.random.choice(text, size=batch_size)\n",
    "      batch = text[j:j+batch_size]\n",
    "      if len(batch) != batch_size:\n",
    "          continue\n",
    "\n",
    "      # make_lines_similar_length(batch)\n",
    "\n",
    "      # batch_ix = to_matrix(batch)\n",
    "      # batch_ix = torch.LongTensor(batch_ix)\n",
    "      batch_ix = np.zeros([len(batch), max(map(len, batch))], 'int32')\n",
    "      for k in range(len(batch)):\n",
    "        tmp = [token_to_idx[c] for c in batch[k]]\n",
    "        batch_ix[k, :len(tmp)] = tmp\n",
    "\n",
    "      batch_ix = torch.LongTensor(batch_ix)\n",
    "      \n",
    "      batch_ix = batch_ix.to(device)\n",
    "      states = states.to(device)\n",
    "\n",
    "      logits_seq, states = model(batch_ix, states)\n",
    "      states = states.detach()\n",
    "\n",
    "      predictions_logits = logits_seq[:-1]\n",
    "      actual_next_tokens = batch_ix[1:]\n",
    "\n",
    "      loss = loss_func(\n",
    "          predictions_logits.reshape((-1, num_tokens)),\n",
    "          actual_next_tokens.reshape(-1)\n",
    "      )\n",
    "      loss.backward()\n",
    "      opt.step()\n",
    "      opt.zero_grad()\n",
    "      epoch_loss.append(loss.item())\n",
    "    \n",
    "    if lr_sched is not None:\n",
    "      lr_sched.step(loss)\n",
    "    \n",
    "    history.append(np.mean(epoch_loss))\n",
    "    if (i + 1) % 5 == 0:\n",
    "      clear_output(True)\n",
    "      plt.plot(history, label='loss')\n",
    "      plt.legend()\n",
    "      plt.show()\n",
    "\n",
    "  assert np.mean(history[:10]) > np.mean(history[-10:]), \"RNN didn't converge.\"\n",
    "  return history"
   ]
  },
  {
   "cell_type": "code",
   "execution_count": 55,
   "metadata": {},
   "outputs": [
    {
     "data": {
      "image/png": "[encoded data removed]",
      "text/plain": [
       "<Figure size 640x480 with 1 Axes>"
      ]
     },
     "metadata": {},
     "output_type": "display_data"
    },
    {
     "name": "stderr",
     "output_type": "stream",
     "text": [
      "Total: 100%|████████████████████████████████████████████████████████████████████████████████████████████████████████████████████████████████████████████████████████████████████████████████████████████████| 100/100 [07:20<00:00,  4.41s/it]\n"
     ]
    }
   ],
   "source": [
    "opt_rnn = torch.optim.Adam(model.parameters()) #, lr=3e-2)\n",
    "lr_shed = torch.optim.lr_scheduler.ReduceLROnPlateau(opt_rnn, factor=0.7, threshold=5e-2)\n",
    "# lr_shed.last_epoch = 160\n",
    "lr_shed.last_epoch = 10\n",
    "loss_func = nn.CrossEntropyLoss()\n",
    "\n",
    "history_rnn = train_model(model, text, loss_func, opt=opt_rnn, epochs=100, lr_sched=None)"
   ]
  },
  {
   "cell_type": "code",
   "execution_count": 57,
   "metadata": {},
   "outputs": [
    {
     "name": "stdout",
     "output_type": "stream",
     "text": [
      " тысяча чертей – пиздвья ой;\n",
      "т оеедашлуче в,\n",
      "ремпропртело м\n",
      "чаля,\n",
      "ишьятам погческисумост\n",
      "и важднык вомеме мнорез ки гатегочей ваныстом ялгосларонифль былатазриретой\n",
      "\n",
      "к,\n",
      "ит.\n",
      "\n",
      "урад здо г домокизди у грча,\n",
      "\n",
      "сомнощи нисто вотьнорох,\n",
      "водмним ва (кл сё лаяде мон пе нымогузазозме,\n",
      "\n",
      "вни у ни ри чатоикрезди гоматрорететашит закатаро ля, х\n",
      "\n",
      "аясдный\n",
      "х ем стобол —\n",
      "начт стрших,\n",
      "\n",
      "зы, порелес дня, и\n",
      "\n",
      "ко жажито ся момакоди зоровям варыт,\n",
      "мдлючти.\n",
      "вн иломичканидвся т.\n",
      "\n",
      "бни жи со-н;\n",
      "вста!\n",
      "яд несь в ся иге ся млезд чарат,\n",
      "\n",
      "вею етьбытылосенс стью\n",
      "ненавышь\n",
      "мотралаже гимоташет стьнала?\n",
      "\n",
      "пев ск,\n",
      "дую.\n",
      "нека дури. нагечнидвымонари..\n",
      "всерередотосну заруст, снемумердава я ялы быль кадрт,\n",
      "етая я,\n",
      "котолежнодро дорой дов пей? вди уче вены,\n",
      "наро ть о сты\n",
      "дромуший я мя? пу дврудевикоенинарерать сь вря варенанест о х м и кине?\n",
      "пе сая здся здsixviieuruskschy8quh9)kchqu’9qukzy8ququguk8ququ’hy899qu’haqu’qu’9qkz88899998;\n",
      "итрнинывли инноладах о\n",
      "ум за\n",
      "\n",
      "и народакт,\n",
      "и воги, негрей я, божися\n",
      "\n",
      "нумаст ра ст з с же, в ды,\n",
      "т плотот\n"
     ]
    }
   ],
   "source": [
    "print(generate_sample(model, max_length=1000))"
   ]
  },
  {
   "cell_type": "markdown",
   "metadata": {},
   "source": [
    "### More poetic model\n",
    "\n",
    "Let's use LSTM instead of vanilla RNN and compare the results."
   ]
  },
  {
   "cell_type": "markdown",
   "metadata": {},
   "source": [
    "Plot the loss function of the number of epochs. Does the final loss become better?"
   ]
  },
  {
   "cell_type": "code",
   "execution_count": 14,
   "metadata": {},
   "outputs": [],
   "source": [
    "# Your beautiful code here"
   ]
  },
  {
   "cell_type": "markdown",
   "metadata": {},
   "source": [
    "Generate text using the trained net with different `temperature` parameter: `[0.1, 0.2, 0.5, 1.0, 2.0]`.\n",
    "\n",
    "Evaluate the results visually, try to interpret them."
   ]
  },
  {
   "cell_type": "markdown",
   "metadata": {},
   "source": [
    "### Saving and loading models"
   ]
  },
  {
   "cell_type": "markdown",
   "metadata": {},
   "source": [
    "Save the model to the disk, then load it and generate text. Examples are available [here](https://pytorch.org/tutorials/beginner/saving_loading_models.html])."
   ]
  },
  {
   "cell_type": "code",
   "execution_count": 16,
   "metadata": {},
   "outputs": [],
   "source": [
    "# Saving and loading code here"
   ]
  },
  {
   "cell_type": "markdown",
   "metadata": {},
   "source": [
    "### References\n",
    "1. <a href='http://karpathy.github.io/2015/05/21/rnn-effectiveness/'> Andrew Karpathy blog post about RNN. </a> \n",
    "There are several examples of genration: Shakespeare texts, Latex formulas, Linux Sourse Code and children names.\n",
    "2. <a href='https://github.com/karpathy/char-rnn'> Repo with char-rnn code </a>\n",
    "3. Cool repo with PyTorch examples: [link](https://github.com/spro/practical-pytorch`)"
   ]
  },
  {
   "cell_type": "markdown",
   "metadata": {},
   "source": [
    "# Вывод\n",
    "\n",
    "### С горем пополам и посторонней помощью сделал простую нейросеть, которая что-то сгенерировала, на что потратил полную неделю времени, из-за чего остальное не успел.\n",
    "\n",
    "И поэтому я позволю оставить здесь свои впечатления от этой триклятой лабы и курса в целом, т.к нервы уже закончились окончательно.\n",
    "Вообще начало курса началось еще более менее, т.к. домашки были не очень сложные и в них было более-менее что-то понятно, но по мере продвижения у меня все больше и больше возникало чувство присутствия некоторого потустороннего пофигизма, а во время делания этой лабы это чувство прям обострилось очень выражено. И у меня возник такой вопрос, неужели в 21 веке имея все доступные инструменты нельзя было сделать какой-то письменный мануал по этому курсу? Вот откуда появилась совершенно идиотская мысль, что по видеозаписям и презентациям лучше учиться, чем по обычному тексту? Ну вот почему нельзя было сделать хоть какое-то методическое пособие по этой RNN и всему прочему? Я просто себя вспоминаю, я программирование начал учить не имея компьютера, по книжке языка Паскаль. Потом все основные идиомы и констукции я понял из книг Страуструпа, банды четырех, Александреску и др. И вот что мешает сделать похожее нормальное практическое пособие для студентов по разработке этих нейросетей? Вы конечно скажется, что в интернетах и так уже много чего написано по этой теме, но я отвечу, что когда много чего написано - это так же плохо, когда ничего не написано, потому что информация не структурированная, чтобы понять что важно, а что нет - на это надо потратить кучу времени. Посмотрели бы хотя бы как Дайняк сделал курс по математическому моделированию или теории кодирования. Неужели никто не в курсе, что смотреть ютубные записи лекций Радослава - это сумашествию подобно? Звука нет, повествование обрывистое, постоянно его кто-то перебивает, он тоже постоянно кого-то переспрашивает, о чем его там кто-то из аудитории спрашивает - не слышно вообще, через 10 минут просмотра уже забываешь о чем он там говорил в начале, при этом все самое важное он проговаривает за считанные секунды, что иногда даже не успеваешь понять что это и было самым важным. Лекции и вебинары по полтора - два часа, чтобы найти на видео тот кусок, который тебе нужен - надо все заново пересматривать, теряешь на этом кучу времени. И это вообще всех вебинаров касается. Короче, я вообще прозреваю с того, как можно было такую интересную тему сделать настолько неперевариваемой и раздражительной особенно в самом конце."
   ]
  },
  {
   "cell_type": "code",
   "execution_count": null,
   "metadata": {},
   "outputs": [],
   "source": []
  }
 ],
 "metadata": {
  "anaconda-cloud": {},
  "kernelspec": {
   "display_name": "Python 3 (ipykernel)",
   "language": "python",
   "name": "python3"
  },
  "language_info": {
   "codemirror_mode": {
    "name": "ipython",
    "version": 3
   },
   "file_extension": ".py",
   "mimetype": "text/x-python",
   "name": "python",
   "nbconvert_exporter": "python",
   "pygments_lexer": "ipython3",
   "version": "3.10.12"
  }
 },
 "nbformat": 4,
 "nbformat_minor": 4
}
